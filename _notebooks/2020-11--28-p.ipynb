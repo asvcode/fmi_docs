{
 "cells": [
  {
   "cell_type": "markdown",
   "metadata": {},
   "source": [
    "# \"p\"\n",
    "> \"Taking a deeper look at the preprocessing module\"\n",
    "- toc: true\n",
    "- branch: master\n",
    "- badges: true\n",
    "- comments: true\n",
    "- categories: [medical_imaging, dicom, fastai, preprocessing]\n",
    "- image: images/graphic8.PNG"
   ]
  },
  {
   "cell_type": "code",
   "execution_count": 2,
   "metadata": {},
   "outputs": [],
   "source": [
    "#export\n",
    "import pydicom,kornia,skimage\n",
    "from fastai.vision.all import *\n",
    "from fastai.medical.imaging import *\n",
    "from torchvision.utils import save_image\n",
    "\n",
    "from fmi.pipeline import *\n",
    "from fmi.explore import get_dicom_image"
   ]
  },
  {
   "cell_type": "markdown",
   "metadata": {},
   "source": [
    "### Mask & Save"
   ]
  },
  {
   "cell_type": "markdown",
   "metadata": {},
   "source": [
    "> Note: View Mask & Save tutorial on Kaggle (click on Kaggle icon)\n",
    "\n",
    "[![kaggle](images/kaggle.PNG)](https://www.kaggle.com/avirdee/mask-and-save-tutorial/)"
   ]
  },
  {
   "cell_type": "code",
   "execution_count": 3,
   "metadata": {},
   "outputs": [],
   "source": [
    "#export\n",
    "def mask_and_save_path(file: (L), source=None, show=False, window=dicom_windows.lungs, sigma:float=0.1,\\\n",
    "                  thresh:float=0.9, save=False, save_path=None):\n",
    "    \"Helper to create masks based on dicom window with the option to save the updated image from path\"\n",
    "    image_list = []\n",
    "    for i in file:\n",
    "        ##This line will have to be changed depending on what platform is being used\n",
    "        str_file = str(i); file_name = str_file.split('.')[0].split('\\\\')[-1] #windows\n",
    "        #str_file = str(i); file_name = str_file.split('/')[-1].split('.')[0] #kaggle\n",
    "        dcm = dcmread(i)\n",
    "        wind = dcm.windowed(*window)\n",
    "        mask = dcm.mask_from_blur(window, sigma=sigma, thresh=thresh, remove_max=False)\n",
    "        bbs = mask2bbox(mask)\n",
    "        lo,hi = bbs\n",
    "        imh = wind[lo[0]:hi[0],lo[1]:hi[1]]\n",
    "        if save is not False:\n",
    "            if not os.path.exists(save_path):\n",
    "                os.makedirs(save_path)   \n",
    "            save_image(imh, f'{save_path}/{file_name}.png')\n",
    "        else:\n",
    "            pass\n",
    "        image_list.append(imh)\n",
    "    if show is not False:\n",
    "        show_images(image_list[:10], nrows=1)\n",
    "    else:\n",
    "        pass"
   ]
  },
  {
   "cell_type": "code",
   "execution_count": null,
   "metadata": {},
   "outputs": [],
   "source": []
  }
 ],
 "metadata": {
  "kernelspec": {
   "display_name": "Python 3",
   "language": "python",
   "name": "python3"
  },
  "language_info": {
   "codemirror_mode": {
    "name": "ipython",
    "version": 3
   },
   "file_extension": ".py",
   "mimetype": "text/x-python",
   "name": "python",
   "nbconvert_exporter": "python",
   "pygments_lexer": "ipython3",
   "version": "3.7.9"
  }
 },
 "nbformat": 4,
 "nbformat_minor": 4
}
